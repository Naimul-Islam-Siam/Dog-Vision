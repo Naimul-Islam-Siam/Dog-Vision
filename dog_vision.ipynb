{
  "nbformat": 4,
  "nbformat_minor": 0,
  "metadata": {
    "colab": {
      "name": "dog-vision.ipynb",
      "provenance": [],
      "collapsed_sections": []
    },
    "kernelspec": {
      "name": "python3",
      "display_name": "Python 3"
    },
    "language_info": {
      "name": "python"
    },
    "accelerator": "GPU"
  },
  "cells": [
    {
      "cell_type": "markdown",
      "metadata": {
        "id": "83nkW_6wC49N"
      },
      "source": [
        "We are building an end to end multi class image classifier using TensorFlow and TensorFlow Hub."
      ]
    },
    {
      "cell_type": "markdown",
      "metadata": {
        "id": "CrwEaBnjDMcw"
      },
      "source": [
        "## 1. Problem Definition\n",
        "\n",
        "Identifying the breed of a dog given an image of a dog."
      ]
    },
    {
      "cell_type": "markdown",
      "metadata": {
        "id": "QDwWdzClDXzd"
      },
      "source": [
        "## 2. Data\n",
        "\n",
        "We are using \"Dog Breed Identification\" dataset from Kaggle: https://www.kaggle.com/c/dog-breed-identification/data"
      ]
    },
    {
      "cell_type": "markdown",
      "metadata": {
        "id": "EJtJQj0ODm39"
      },
      "source": [
        "## 3. Evaluation\n",
        "\n",
        "For evaluating we will have to submit a file with prediction probabilities for each of the different dog breeds of each test image.\n",
        "\n",
        "The file should contain a header and have the following format:\n",
        "\n",
        "<code>id,affenpinscher,afghan_hound,..,yorkshire_terrier\n",
        "000621fb3cbb32d8935728e48679680e,0.0083,0.0,...,0.0083\n",
        "etc.</code>\n",
        "\n",
        "Details: https://www.kaggle.com/c/dog-breed-identification/overview/evaluation"
      ]
    },
    {
      "cell_type": "markdown",
      "metadata": {
        "id": "xzq-ElD1E7ze"
      },
      "source": [
        "## 4. Features\n",
        "\n",
        "- We are dealing with unstructured data (images) which means no tabular formed data. So it's best to use Deep Learning / Transfer Learning.\n",
        "- There are 120 breeds of dogs which means we 120 classes\n",
        "- There are around 10,000+ images in the training dataset and they are **labeled**\n",
        "- There are around 10,000+ images in the test dataset but they don't have any labels as it is up to us to predict the labels"
      ]
    },
    {
      "cell_type": "markdown",
      "metadata": {
        "id": "pLTxxBmqGKrv"
      },
      "source": [
        "---"
      ]
    },
    {
      "cell_type": "markdown",
      "metadata": {
        "id": "w-J4NF0nGHCv"
      },
      "source": [
        "## Getting the Workspace Ready\n",
        "\n",
        "- Import TensorFlow ✅\n",
        "- Import TensorFlowHub ✅\n",
        "- Connect to GPU ✅"
      ]
    },
    {
      "cell_type": "code",
      "metadata": {
        "id": "LgXhisl0Cgoh"
      },
      "source": [
        "# Import necessary modules\n",
        "import tensorflow as tf\n",
        "import tensorflow_hub as hub"
      ],
      "execution_count": 1,
      "outputs": []
    },
    {
      "cell_type": "code",
      "metadata": {
        "id": "uVo2RrgPGa-U",
        "colab": {
          "base_uri": "https://localhost:8080/"
        },
        "outputId": "7ef6018a-8715-4b23-af4c-df897be4246a"
      },
      "source": [
        "# Check versions\n",
        "print(\"TensorFlow Version: \", tf.__version__)\n",
        "print(\"TensorFlow Hub Version: \", hub.__version__)"
      ],
      "execution_count": 2,
      "outputs": [
        {
          "output_type": "stream",
          "text": [
            "TensorFlow Version:  2.5.0\n",
            "TensorFlow Hub Version:  0.12.0\n"
          ],
          "name": "stdout"
        }
      ]
    },
    {
      "cell_type": "code",
      "metadata": {
        "colab": {
          "base_uri": "https://localhost:8080/"
        },
        "id": "lp32wFzM-TbS",
        "outputId": "e9497271-15f4-4929-adb6-289d368bec1b"
      },
      "source": [
        "# Check GPU status\n",
        "print(\"GPU\", \"Available! 😃😀\" if tf.config.list_physical_devices(\"GPU\") else \"Not Available 😟\")"
      ],
      "execution_count": 3,
      "outputs": [
        {
          "output_type": "stream",
          "text": [
            "GPU Available! 😃😀\n"
          ],
          "name": "stdout"
        }
      ]
    },
    {
      "cell_type": "markdown",
      "metadata": {
        "id": "DCAMZu8YDpE_"
      },
      "source": [
        "## Getting Our Data Ready\n",
        "\n",
        "In every machine learning model, our data must be first converted to numerical format. So we have to turn our images into that form too.\n",
        "\n",
        "Here, we are turning the images into tensors (numerical representation)"
      ]
    },
    {
      "cell_type": "code",
      "metadata": {
        "id": "KI6rGz_g_-je"
      },
      "source": [
        "import pandas as pd\n",
        "import numpy as np\n",
        "import matplotlib.pyplot as plt\n",
        "plt.style.use('seaborn-whitegrid') # style theme of plots"
      ],
      "execution_count": 4,
      "outputs": []
    },
    {
      "cell_type": "code",
      "metadata": {
        "colab": {
          "base_uri": "https://localhost:8080/",
          "height": 173
        },
        "id": "ldVfanVFEZJd",
        "outputId": "a0a15ae4-6325-4b8c-9df9-4885afe6f2b6"
      },
      "source": [
        "labels_csv = pd.read_csv(\"/content/drive/MyDrive/Dog Vision/Dataset/labels.csv\")\n",
        "\n",
        "labels_csv.describe()"
      ],
      "execution_count": 5,
      "outputs": [
        {
          "output_type": "execute_result",
          "data": {
            "text/html": [
              "<div>\n",
              "<style scoped>\n",
              "    .dataframe tbody tr th:only-of-type {\n",
              "        vertical-align: middle;\n",
              "    }\n",
              "\n",
              "    .dataframe tbody tr th {\n",
              "        vertical-align: top;\n",
              "    }\n",
              "\n",
              "    .dataframe thead th {\n",
              "        text-align: right;\n",
              "    }\n",
              "</style>\n",
              "<table border=\"1\" class=\"dataframe\">\n",
              "  <thead>\n",
              "    <tr style=\"text-align: right;\">\n",
              "      <th></th>\n",
              "      <th>id</th>\n",
              "      <th>breed</th>\n",
              "    </tr>\n",
              "  </thead>\n",
              "  <tbody>\n",
              "    <tr>\n",
              "      <th>count</th>\n",
              "      <td>10222</td>\n",
              "      <td>10222</td>\n",
              "    </tr>\n",
              "    <tr>\n",
              "      <th>unique</th>\n",
              "      <td>10222</td>\n",
              "      <td>120</td>\n",
              "    </tr>\n",
              "    <tr>\n",
              "      <th>top</th>\n",
              "      <td>8fc54285359ddda909d9059cfa13ff27</td>\n",
              "      <td>scottish_deerhound</td>\n",
              "    </tr>\n",
              "    <tr>\n",
              "      <th>freq</th>\n",
              "      <td>1</td>\n",
              "      <td>126</td>\n",
              "    </tr>\n",
              "  </tbody>\n",
              "</table>\n",
              "</div>"
            ],
            "text/plain": [
              "                                      id               breed\n",
              "count                              10222               10222\n",
              "unique                             10222                 120\n",
              "top     8fc54285359ddda909d9059cfa13ff27  scottish_deerhound\n",
              "freq                                   1                 126"
            ]
          },
          "metadata": {
            "tags": []
          },
          "execution_count": 5
        }
      ]
    },
    {
      "cell_type": "code",
      "metadata": {
        "colab": {
          "base_uri": "https://localhost:8080/"
        },
        "id": "SWHClexxL_SO",
        "outputId": "7a4f3fba-268c-4d5d-f6db-7c50e4a8b67d"
      },
      "source": [
        "len(labels_csv)"
      ],
      "execution_count": 6,
      "outputs": [
        {
          "output_type": "execute_result",
          "data": {
            "text/plain": [
              "10222"
            ]
          },
          "metadata": {
            "tags": []
          },
          "execution_count": 6
        }
      ]
    },
    {
      "cell_type": "code",
      "metadata": {
        "colab": {
          "base_uri": "https://localhost:8080/",
          "height": 204
        },
        "id": "TcPPPgNuGu_a",
        "outputId": "b9da3b78-1420-47a1-ab3f-62e1ddee4d60"
      },
      "source": [
        "labels_csv.head()"
      ],
      "execution_count": 7,
      "outputs": [
        {
          "output_type": "execute_result",
          "data": {
            "text/html": [
              "<div>\n",
              "<style scoped>\n",
              "    .dataframe tbody tr th:only-of-type {\n",
              "        vertical-align: middle;\n",
              "    }\n",
              "\n",
              "    .dataframe tbody tr th {\n",
              "        vertical-align: top;\n",
              "    }\n",
              "\n",
              "    .dataframe thead th {\n",
              "        text-align: right;\n",
              "    }\n",
              "</style>\n",
              "<table border=\"1\" class=\"dataframe\">\n",
              "  <thead>\n",
              "    <tr style=\"text-align: right;\">\n",
              "      <th></th>\n",
              "      <th>id</th>\n",
              "      <th>breed</th>\n",
              "    </tr>\n",
              "  </thead>\n",
              "  <tbody>\n",
              "    <tr>\n",
              "      <th>0</th>\n",
              "      <td>000bec180eb18c7604dcecc8fe0dba07</td>\n",
              "      <td>boston_bull</td>\n",
              "    </tr>\n",
              "    <tr>\n",
              "      <th>1</th>\n",
              "      <td>001513dfcb2ffafc82cccf4d8bbaba97</td>\n",
              "      <td>dingo</td>\n",
              "    </tr>\n",
              "    <tr>\n",
              "      <th>2</th>\n",
              "      <td>001cdf01b096e06d78e9e5112d419397</td>\n",
              "      <td>pekinese</td>\n",
              "    </tr>\n",
              "    <tr>\n",
              "      <th>3</th>\n",
              "      <td>00214f311d5d2247d5dfe4fe24b2303d</td>\n",
              "      <td>bluetick</td>\n",
              "    </tr>\n",
              "    <tr>\n",
              "      <th>4</th>\n",
              "      <td>0021f9ceb3235effd7fcde7f7538ed62</td>\n",
              "      <td>golden_retriever</td>\n",
              "    </tr>\n",
              "  </tbody>\n",
              "</table>\n",
              "</div>"
            ],
            "text/plain": [
              "                                 id             breed\n",
              "0  000bec180eb18c7604dcecc8fe0dba07       boston_bull\n",
              "1  001513dfcb2ffafc82cccf4d8bbaba97             dingo\n",
              "2  001cdf01b096e06d78e9e5112d419397          pekinese\n",
              "3  00214f311d5d2247d5dfe4fe24b2303d          bluetick\n",
              "4  0021f9ceb3235effd7fcde7f7538ed62  golden_retriever"
            ]
          },
          "metadata": {
            "tags": []
          },
          "execution_count": 7
        }
      ]
    },
    {
      "cell_type": "code",
      "metadata": {
        "colab": {
          "base_uri": "https://localhost:8080/"
        },
        "id": "taDkjOrNGx4d",
        "outputId": "da474fbd-dd07-4686-f3d8-ad2c95239f81"
      },
      "source": [
        "labels_csv[\"breed\"].value_counts()"
      ],
      "execution_count": 8,
      "outputs": [
        {
          "output_type": "execute_result",
          "data": {
            "text/plain": [
              "scottish_deerhound      126\n",
              "maltese_dog             117\n",
              "afghan_hound            116\n",
              "entlebucher             115\n",
              "bernese_mountain_dog    114\n",
              "                       ... \n",
              "brabancon_griffon        67\n",
              "golden_retriever         67\n",
              "komondor                 67\n",
              "briard                   66\n",
              "eskimo_dog               66\n",
              "Name: breed, Length: 120, dtype: int64"
            ]
          },
          "metadata": {
            "tags": []
          },
          "execution_count": 8
        }
      ]
    },
    {
      "cell_type": "code",
      "metadata": {
        "colab": {
          "base_uri": "https://localhost:8080/",
          "height": 820
        },
        "id": "Izg6vx30G2bR",
        "outputId": "471e263e-c65b-44af-b12b-0fb36cb1c4a0"
      },
      "source": [
        "labels_csv[\"breed\"].value_counts().plot.bar(figsize=(20,12));"
      ],
      "execution_count": 9,
      "outputs": [
        {
          "output_type": "display_data",
          "data": {
            "image/png": "[encoded data removed]",
            "text/plain": [
              "<Figure size 1440x864 with 1 Axes>"
            ]
          },
          "metadata": {
            "tags": []
          }
        }
      ]
    },
    {
      "cell_type": "code",
      "metadata": {
        "colab": {
          "base_uri": "https://localhost:8080/",
          "height": 262
        },
        "id": "rfihZ3CYHS-L",
        "outputId": "102115f0-3499-4600-ef19-2ffa592596e6"
      },
      "source": [
        "labels_csv[\"breed\"].value_counts().hist();"
      ],
      "execution_count": 10,
      "outputs": [
        {
          "output_type": "display_data",
          "data": {
            "image/png": "[encoded data removed]",
            "text/plain": [
              "<Figure size 432x288 with 1 Axes>"
            ]
          },
          "metadata": {
            "tags": []
          }
        }
      ]
    },
    {
      "cell_type": "code",
      "metadata": {
        "colab": {
          "base_uri": "https://localhost:8080/"
        },
        "id": "-7h2p3PFHiPj",
        "outputId": "36771067-925e-4dc6-d40c-7bea94f3ada5"
      },
      "source": [
        "labels_csv[\"breed\"].value_counts().median()"
      ],
      "execution_count": 11,
      "outputs": [
        {
          "output_type": "execute_result",
          "data": {
            "text/plain": [
              "82.0"
            ]
          },
          "metadata": {
            "tags": []
          },
          "execution_count": 11
        }
      ]
    },
    {
      "cell_type": "code",
      "metadata": {
        "colab": {
          "base_uri": "https://localhost:8080/"
        },
        "id": "KA2zG_2GHmRu",
        "outputId": "d1b6fe3b-f0ba-4f69-9bbb-584817503c56"
      },
      "source": [
        "# Create pathnames for image ID's\n",
        "filenames = []\n",
        "\n",
        "for fname in labels_csv[\"id\"]:\n",
        "  filenames.append(\"/content/drive/MyDrive/Dog Vision/Dataset/train/\"+fname+\".jpg\")\n",
        "\n",
        "filenames[:5]"
      ],
      "execution_count": 12,
      "outputs": [
        {
          "output_type": "execute_result",
          "data": {
            "text/plain": [
              "['/content/drive/MyDrive/Dog Vision/Dataset/train/000bec180eb18c7604dcecc8fe0dba07.jpg',\n",
              " '/content/drive/MyDrive/Dog Vision/Dataset/train/001513dfcb2ffafc82cccf4d8bbaba97.jpg',\n",
              " '/content/drive/MyDrive/Dog Vision/Dataset/train/001cdf01b096e06d78e9e5112d419397.jpg',\n",
              " '/content/drive/MyDrive/Dog Vision/Dataset/train/00214f311d5d2247d5dfe4fe24b2303d.jpg',\n",
              " '/content/drive/MyDrive/Dog Vision/Dataset/train/0021f9ceb3235effd7fcde7f7538ed62.jpg']"
            ]
          },
          "metadata": {
            "tags": []
          },
          "execution_count": 12
        }
      ]
    },
    {
      "cell_type": "code",
      "metadata": {
        "colab": {
          "base_uri": "https://localhost:8080/"
        },
        "id": "dkdmpe5wLnuZ",
        "outputId": "442ed45a-f65c-43ba-e779-22d9a99112aa"
      },
      "source": [
        "len(filenames)"
      ],
      "execution_count": 13,
      "outputs": [
        {
          "output_type": "execute_result",
          "data": {
            "text/plain": [
              "10222"
            ]
          },
          "metadata": {
            "tags": []
          },
          "execution_count": 13
        }
      ]
    },
    {
      "cell_type": "code",
      "metadata": {
        "colab": {
          "base_uri": "https://localhost:8080/",
          "height": 392
        },
        "id": "P-d7WOKlKdk4",
        "outputId": "f9e9a19b-e971-4823-cb4a-968b1b7eb489"
      },
      "source": [
        "# Module to display images\n",
        "from IPython.display import Image\n",
        "\n",
        "Image(filenames[69])"
      ],
      "execution_count": 14,
      "outputs": [
        {
          "output_type": "execute_result",
          "data": {
            "image/jpeg": "[encoded data removed]",
            "text/plain": [
              "<IPython.core.display.Image object>"
            ]
          },
          "metadata": {
            "tags": []
          },
          "execution_count": 14
        }
      ]
    },
    {
      "cell_type": "code",
      "metadata": {
        "colab": {
          "base_uri": "https://localhost:8080/"
        },
        "id": "n1JGv3QpLKQD",
        "outputId": "36de77ae-7e34-446b-adfd-e906a7a58351"
      },
      "source": [
        "print(f\"Breed name of the above image is: \" + labels_csv[\"breed\"][69])"
      ],
      "execution_count": 15,
      "outputs": [
        {
          "output_type": "stream",
          "text": [
            "Breed name of the above image is: bloodhound\n"
          ],
          "name": "stdout"
        }
      ]
    },
    {
      "cell_type": "markdown",
      "metadata": {
        "id": "TL58t2RaR-ql"
      },
      "source": [
        "## Turn Data into Number"
      ]
    },
    {
      "cell_type": "code",
      "metadata": {
        "colab": {
          "base_uri": "https://localhost:8080/"
        },
        "id": "61oThubeLY7h",
        "outputId": "85f959c0-98a8-408e-b7c5-30ced7fa1999"
      },
      "source": [
        "labels = labels_csv[\"breed\"].to_numpy()\n",
        "\n",
        "labels"
      ],
      "execution_count": 16,
      "outputs": [
        {
          "output_type": "execute_result",
          "data": {
            "text/plain": [
              "array(['boston_bull', 'dingo', 'pekinese', ..., 'airedale',\n",
              "       'miniature_pinscher', 'chesapeake_bay_retriever'], dtype=object)"
            ]
          },
          "metadata": {
            "tags": []
          },
          "execution_count": 16
        }
      ]
    },
    {
      "cell_type": "code",
      "metadata": {
        "colab": {
          "base_uri": "https://localhost:8080/"
        },
        "id": "w-Q_4DykQlmU",
        "outputId": "a02f38d6-f9e5-4ce1-b7af-d403ebf661f3"
      },
      "source": [
        "len(labels)"
      ],
      "execution_count": 17,
      "outputs": [
        {
          "output_type": "execute_result",
          "data": {
            "text/plain": [
              "10222"
            ]
          },
          "metadata": {
            "tags": []
          },
          "execution_count": 17
        }
      ]
    },
    {
      "cell_type": "code",
      "metadata": {
        "colab": {
          "base_uri": "https://localhost:8080/"
        },
        "id": "ChYn07GDQm0r",
        "outputId": "e78a2109-2425-4028-dd6f-54d337396e62"
      },
      "source": [
        "unique_breeds = np.unique(labels)\n",
        "\n",
        "len(unique_breeds)"
      ],
      "execution_count": 18,
      "outputs": [
        {
          "output_type": "execute_result",
          "data": {
            "text/plain": [
              "120"
            ]
          },
          "metadata": {
            "tags": []
          },
          "execution_count": 18
        }
      ]
    },
    {
      "cell_type": "markdown",
      "metadata": {
        "id": "FkQYkQg7SdTV"
      },
      "source": [
        "**Turn every label into boolean array**"
      ]
    },
    {
      "cell_type": "code",
      "metadata": {
        "colab": {
          "base_uri": "https://localhost:8080/"
        },
        "id": "MH3p26JfQyAF",
        "outputId": "b0f4c0c2-59e4-4228-bf6a-645dab75d3be"
      },
      "source": [
        "boolean_labels = [label == unique_breeds for label in labels]\n",
        "\n",
        "boolean_labels[69]"
      ],
      "execution_count": 19,
      "outputs": [
        {
          "output_type": "execute_result",
          "data": {
            "text/plain": [
              "array([False, False, False, False, False, False, False, False, False,\n",
              "       False, False, False, False, False,  True, False, False, False,\n",
              "       False, False, False, False, False, False, False, False, False,\n",
              "       False, False, False, False, False, False, False, False, False,\n",
              "       False, False, False, False, False, False, False, False, False,\n",
              "       False, False, False, False, False, False, False, False, False,\n",
              "       False, False, False, False, False, False, False, False, False,\n",
              "       False, False, False, False, False, False, False, False, False,\n",
              "       False, False, False, False, False, False, False, False, False,\n",
              "       False, False, False, False, False, False, False, False, False,\n",
              "       False, False, False, False, False, False, False, False, False,\n",
              "       False, False, False, False, False, False, False, False, False,\n",
              "       False, False, False, False, False, False, False, False, False,\n",
              "       False, False, False])"
            ]
          },
          "metadata": {
            "tags": []
          },
          "execution_count": 19
        }
      ]
    },
    {
      "cell_type": "code",
      "metadata": {
        "colab": {
          "base_uri": "https://localhost:8080/"
        },
        "id": "7aWc6r8qSLgS",
        "outputId": "ebd10683-cca0-42d7-e3f9-4b7771c84ec2"
      },
      "source": [
        "len(boolean_labels)"
      ],
      "execution_count": 20,
      "outputs": [
        {
          "output_type": "execute_result",
          "data": {
            "text/plain": [
              "10222"
            ]
          },
          "metadata": {
            "tags": []
          },
          "execution_count": 20
        }
      ]
    },
    {
      "cell_type": "code",
      "metadata": {
        "colab": {
          "base_uri": "https://localhost:8080/"
        },
        "id": "PRtHBtueSXqC",
        "outputId": "941cef7f-59a2-4d5a-bcde-43bd534273dd"
      },
      "source": [
        "print(labels[69])\n",
        "print(boolean_labels[69].astype(int))"
      ],
      "execution_count": 21,
      "outputs": [
        {
          "output_type": "stream",
          "text": [
            "bloodhound\n",
            "[0 0 0 0 0 0 0 0 0 0 0 0 0 0 1 0 0 0 0 0 0 0 0 0 0 0 0 0 0 0 0 0 0 0 0 0 0\n",
            " 0 0 0 0 0 0 0 0 0 0 0 0 0 0 0 0 0 0 0 0 0 0 0 0 0 0 0 0 0 0 0 0 0 0 0 0 0\n",
            " 0 0 0 0 0 0 0 0 0 0 0 0 0 0 0 0 0 0 0 0 0 0 0 0 0 0 0 0 0 0 0 0 0 0 0 0 0\n",
            " 0 0 0 0 0 0 0 0 0]\n"
          ],
          "name": "stdout"
        }
      ]
    },
    {
      "cell_type": "markdown",
      "metadata": {
        "id": "9itGpGPlitBd"
      },
      "source": [
        "## Creating Our Validation Set\n",
        "\n",
        "We are going to start off experimenting with ~1000 images and increase as needed."
      ]
    },
    {
      "cell_type": "code",
      "metadata": {
        "id": "qNfesARsTDEx"
      },
      "source": [
        "# Set number of images to use for experimenting\n",
        "NUM_IMAGES = 1000 #@param {type:\"slider\", min:1000, max:10000}"
      ],
      "execution_count": 22,
      "outputs": []
    },
    {
      "cell_type": "code",
      "metadata": {
        "id": "FCEg5Wvlj2ye"
      },
      "source": [
        "# Setup X/y\n",
        "X = filenames\n",
        "y = boolean_labels"
      ],
      "execution_count": 23,
      "outputs": []
    },
    {
      "cell_type": "code",
      "metadata": {
        "id": "4TaF8QATkIuW"
      },
      "source": [
        "# Let's split our data into train and validation sets\n",
        "from sklearn.model_selection import train_test_split\n",
        "\n",
        "X_train, X_val, y_train, y_val = train_test_split(X[:NUM_IMAGES], y[:NUM_IMAGES], test_size=0.2, random_state=42)"
      ],
      "execution_count": 24,
      "outputs": []
    },
    {
      "cell_type": "code",
      "metadata": {
        "colab": {
          "base_uri": "https://localhost:8080/"
        },
        "id": "sHbtoCGqkvl_",
        "outputId": "5139e76c-5ef1-474e-a67b-68526b1c8b08"
      },
      "source": [
        "len(X_train), len(y_train), len(X_val), len(y_val)"
      ],
      "execution_count": 25,
      "outputs": [
        {
          "output_type": "execute_result",
          "data": {
            "text/plain": [
              "(800, 800, 200, 200)"
            ]
          },
          "metadata": {
            "tags": []
          },
          "execution_count": 25
        }
      ]
    },
    {
      "cell_type": "markdown",
      "metadata": {
        "id": "_C4o7RF0l1Dv"
      },
      "source": [
        "## Proprocess Images (Turning Images into Tensors)\n",
        "\n",
        "To preprocess our images we are going to write a function that's going to do few things:\n",
        "1. Take a image filepath as input\n",
        "2. Use TensorFlow to read the image and save it to a variable let's say `image`\n",
        "3. Turn `image` into tensors\n",
        "4. Normalize our image (convert color channels value from 0-255 to 0-1)\n",
        "5. Resize the `image` to shape (224, 224)\n",
        "6. Return the modified `image`\n"
      ]
    },
    {
      "cell_type": "code",
      "metadata": {
        "id": "R9Ct0AUhqv5O"
      },
      "source": [
        "IMG_SIZE = 224"
      ],
      "execution_count": 26,
      "outputs": []
    },
    {
      "cell_type": "code",
      "metadata": {
        "id": "-HarM0Qlk10U"
      },
      "source": [
        "def process_image(image_path, img_size=IMG_SIZE):\n",
        "  # Read an image file\n",
        "  image = tf.io.read_file(image_path)\n",
        "\n",
        "  # Turn the image (jpeg) into Tensors with 3 color channels\n",
        "  image = tf.image.decode_jpeg(image, channels=3)\n",
        "\n",
        "  # Convert the color channels value from 0-255 to 0-1\n",
        "  image = tf.image.convert_image_dtype(image, tf.float32)\n",
        "\n",
        "  # Resize the image\n",
        "  image = tf.image.resize(image, size=[img_size, img_size])\n",
        "\n",
        "  return image"
      ],
      "execution_count": 27,
      "outputs": []
    },
    {
      "cell_type": "markdown",
      "metadata": {
        "id": "4jrYsPrWpEoP"
      },
      "source": [
        "## Turning Our Data into Batches\n",
        "\n",
        "Why we need to turn our data into batches?\n",
        "\n",
        "If we want to process let's say 10,000+ images in one go, this might not even fit in the memory.\n",
        "\n",
        "So, we choose 32 images as the batch size to process them at a time. The batch size can be adjusted manually. But Yann LeCun recommends the batch size to be 32 at max.\n",
        "\n",
        "To use TensorFlow effectively we need our data to be in the form of Tensor tuples which looks like: `(image, label)`"
      ]
    },
    {
      "cell_type": "code",
      "metadata": {
        "id": "VlNxQ3OOthSt"
      },
      "source": [
        "# Create Tensor tuples\n",
        "def get_image_label(image_path, label):\n",
        "  image = process_image(image_path)\n",
        "\n",
        "  return image, label"
      ],
      "execution_count": 29,
      "outputs": []
    },
    {
      "cell_type": "code",
      "metadata": {
        "id": "-YDR9smVq4uS"
      },
      "source": [
        "BATCH_SIZE = 32"
      ],
      "execution_count": 28,
      "outputs": []
    },
    {
      "cell_type": "code",
      "metadata": {
        "id": "2AgXPJ5Xqqre"
      },
      "source": [
        "# Create data batches\n",
        "def create_data_batches(X, y=None, batch_size=BATCH_SIZE, valid_data=False, test_data=False):\n",
        "  \"\"\"\n",
        "    1. Creates batches of data out of image (X) and label (y) pair\n",
        "    2. Shuffles the data if its training data but doesn't shuffle if its validation data\n",
        "    3. Also accepts test data as input (no labels, y=None)\n",
        "  \"\"\"\n",
        "\n",
        "  # If the dataset is for test data, we generally don't have any labels attached to that\n",
        "  if test_data:\n",
        "    print(\"Creating test data batches ...\")\n",
        "    data = tf.data.Dataset.from_tensor_slices((tf.constant(X)))\n",
        "    data_batch = data.map(process_image).batch(batch_size)\n",
        "\n",
        "    return data_batch\n",
        "\n",
        "  # If the dataset is validation set, we don't need to shuffle that\n",
        "  elif valid_data:\n",
        "    print(\"Creating validation data batches ...\")\n",
        "    data = tf.data.Dataset.from_tensor_slices((tf.constant(X), tf.constant(y)))\n",
        "    data_batch = data.map(get_image_label).batch(batch_size)\n",
        "\n",
        "    return data_batch\n",
        "\n",
        "  # If the dataset is training set\n",
        "  else:\n",
        "    print(\"Creating training data batches ...\")\n",
        "    data = tf.data.Dataset.from_tensor_slices((tf.constant(X), tf.constant(y)))\n",
        "\n",
        "    # Shuffling data\n",
        "    data = data.shuffle(buffer_size=len(X))\n",
        "\n",
        "    # Create batch\n",
        "    data_batch = data.map(get_image_label).batch(batch_size)\n",
        "\n",
        "  return data_batch"
      ],
      "execution_count": 32,
      "outputs": []
    },
    {
      "cell_type": "code",
      "metadata": {
        "colab": {
          "base_uri": "https://localhost:8080/"
        },
        "id": "aIR5Z5bhuSj7",
        "outputId": "4e2cf404-6ef8-4654-c16b-c86dedaf3ba4"
      },
      "source": [
        "# Create training and validation data batches\n",
        "train_data = create_data_batches(X_train, y_train)\n",
        "validation_data = create_data_batches(X_val, y_val, valid_data=True)"
      ],
      "execution_count": 33,
      "outputs": [
        {
          "output_type": "stream",
          "text": [
            "Creating training data batches ...\n",
            "Creating validation data batches ...\n"
          ],
          "name": "stdout"
        }
      ]
    },
    {
      "cell_type": "code",
      "metadata": {
        "colab": {
          "base_uri": "https://localhost:8080/"
        },
        "id": "z5lnYqV8uyF7",
        "outputId": "845f1eb5-6e24-41a5-ba43-488b61e82f06"
      },
      "source": [
        "# Check attributes of data batches\n",
        "train_data.element_spec, validation_data.element_spec"
      ],
      "execution_count": 34,
      "outputs": [
        {
          "output_type": "execute_result",
          "data": {
            "text/plain": [
              "((TensorSpec(shape=(None, 224, 224, 3), dtype=tf.float32, name=None),\n",
              "  TensorSpec(shape=(None, 120), dtype=tf.bool, name=None)),\n",
              " (TensorSpec(shape=(None, 224, 224, 3), dtype=tf.float32, name=None),\n",
              "  TensorSpec(shape=(None, 120), dtype=tf.bool, name=None)))"
            ]
          },
          "metadata": {
            "tags": []
          },
          "execution_count": 34
        }
      ]
    },
    {
      "cell_type": "code",
      "metadata": {
        "id": "zN5J2mx1vJA8"
      },
      "source": [
        ""
      ],
      "execution_count": null,
      "outputs": []
    }
  ]
}