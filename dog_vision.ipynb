{
  "nbformat": 4,
  "nbformat_minor": 0,
  "metadata": {
    "colab": {
      "name": "dog-vision.ipynb",
      "provenance": [],
      "collapsed_sections": []
    },
    "kernelspec": {
      "name": "python3",
      "display_name": "Python 3"
    },
    "language_info": {
      "name": "python"
    },
    "accelerator": "GPU"
  },
  "cells": [
    {
      "cell_type": "markdown",
      "metadata": {
        "id": "83nkW_6wC49N"
      },
      "source": [
        "We are building an end to end multi class image classifier using TensorFlow and TensorFlow Hub."
      ]
    },
    {
      "cell_type": "markdown",
      "metadata": {
        "id": "CrwEaBnjDMcw"
      },
      "source": [
        "## 1. Problem Definition\n",
        "\n",
        "Identifying the breed of a dog given an image of a dog."
      ]
    },
    {
      "cell_type": "markdown",
      "metadata": {
        "id": "QDwWdzClDXzd"
      },
      "source": [
        "## 2. Data\n",
        "\n",
        "We are using \"Dog Breed Identification\" dataset from Kaggle: https://www.kaggle.com/c/dog-breed-identification/data"
      ]
    },
    {
      "cell_type": "markdown",
      "metadata": {
        "id": "EJtJQj0ODm39"
      },
      "source": [
        "## 3. Evaluation\n",
        "\n",
        "For evaluating we will have to submit a file with prediction probabilities for each of the different dog breeds of each test image.\n",
        "\n",
        "The file should contain a header and have the following format:\n",
        "\n",
        "<code>id,affenpinscher,afghan_hound,..,yorkshire_terrier\n",
        "000621fb3cbb32d8935728e48679680e,0.0083,0.0,...,0.0083\n",
        "etc.</code>\n",
        "\n",
        "Details: https://www.kaggle.com/c/dog-breed-identification/overview/evaluation"
      ]
    },
    {
      "cell_type": "markdown",
      "metadata": {
        "id": "xzq-ElD1E7ze"
      },
      "source": [
        "## 4. Features\n",
        "\n",
        "- We are dealing with unstructured data (images) which means no tabular formed data. So it's best to use Deep Learning / Transfer Learning.\n",
        "- There are 120 breeds of dogs which means we 120 classes\n",
        "- There are around 10,000+ images in the training dataset and they are **labeled**\n",
        "- There are around 10,000+ images in the test dataset but they don't have any labels as it is up to us to predict the labels"
      ]
    },
    {
      "cell_type": "markdown",
      "metadata": {
        "id": "pLTxxBmqGKrv"
      },
      "source": [
        "---"
      ]
    },
    {
      "cell_type": "markdown",
      "metadata": {
        "id": "w-J4NF0nGHCv"
      },
      "source": [
        "## Getting the Workspace Ready\n",
        "\n",
        "- Import TensorFlow ✅\n",
        "- Import TensorFlowHub ✅\n",
        "- Connect to GPU ✅"
      ]
    },
    {
      "cell_type": "code",
      "metadata": {
        "id": "LgXhisl0Cgoh"
      },
      "source": [
        "# Import necessary modules\n",
        "import tensorflow as tf\n",
        "import tensorflow_hub as hub"
      ],
      "execution_count": 2,
      "outputs": []
    },
    {
      "cell_type": "code",
      "metadata": {
        "id": "uVo2RrgPGa-U",
        "colab": {
          "base_uri": "https://localhost:8080/"
        },
        "outputId": "01afc6b4-c989-45d9-c2db-6794a54fe745"
      },
      "source": [
        "# Check versions\n",
        "print(\"TensorFlow Version: \", tf.__version__)\n",
        "print(\"TensorFlow Hub Version: \", hub.__version__)"
      ],
      "execution_count": 3,
      "outputs": [
        {
          "output_type": "stream",
          "text": [
            "TensorFlow Version:  2.5.0\n",
            "TensorFlow Hub Version:  0.12.0\n"
          ],
          "name": "stdout"
        }
      ]
    },
    {
      "cell_type": "code",
      "metadata": {
        "colab": {
          "base_uri": "https://localhost:8080/"
        },
        "id": "lp32wFzM-TbS",
        "outputId": "535c7464-4223-470c-c62f-70f3bcb257c2"
      },
      "source": [
        "# Check GPU status\n",
        "print(\"GPU\", \"Available! 😃😀\" if tf.config.list_physical_devices(\"GPU\") else \"Not Available 😟\")"
      ],
      "execution_count": 4,
      "outputs": [
        {
          "output_type": "stream",
          "text": [
            "GPU Available! 😃😀\n"
          ],
          "name": "stdout"
        }
      ]
    },
    {
      "cell_type": "markdown",
      "metadata": {
        "id": "DCAMZu8YDpE_"
      },
      "source": [
        "## Getting Our Data Ready\n",
        "\n",
        "In every machine learning model, our data must be first converted to numerical format. So we have to turn our images into that form too.\n",
        "\n",
        "Here, we are turning the images into tensors (numerical representation)"
      ]
    },
    {
      "cell_type": "code",
      "metadata": {
        "id": "KI6rGz_g_-je"
      },
      "source": [
        "import pandas as pd\n",
        "import numpy as np\n",
        "import matplotlib.pyplot as plt\n",
        "plt.style.use('seaborn-whitegrid') # style theme of plots"
      ],
      "execution_count": 6,
      "outputs": []
    },
    {
      "cell_type": "code",
      "metadata": {
        "id": "ldVfanVFEZJd"
      },
      "source": [
        ""
      ],
      "execution_count": null,
      "outputs": []
    }
  ]
}